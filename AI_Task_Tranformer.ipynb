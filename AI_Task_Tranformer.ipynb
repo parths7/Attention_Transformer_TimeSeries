{
  "cells": [
    {
      "cell_type": "markdown",
      "metadata": {
        "id": "view-in-github",
        "colab_type": "text"
      },
      "source": [
        "<a href=\"https://colab.research.google.com/github/parths7/Attention_Transformer_TimeSeries/blob/main/AI_Task_Tranformer.ipynb\" target=\"_parent\"><img src=\"https://colab.research.google.com/assets/colab-badge.svg\" alt=\"Open In Colab\"/></a>"
      ]
    },
    {
      "cell_type": "markdown",
      "source": [
        "Design a sequence-to-sequence transformer model based on the “Attention is All You Need”\n",
        "architecture. The model will process an input sequence of 6-dimensional vectors with a length of\n",
        "100 using an encoder to create context. The decoder will start with a token of dimension 1 and\n",
        "sequence length 10, then generate the remaining 90 outputs in a sequence-to-sequence manner.\n",
        "The task will incorporate masking and positional encoding"
      ],
      "metadata": {
        "id": "HJtB_3u7I_5C"
      }
    },
    {
      "cell_type": "code",
      "execution_count": null,
      "metadata": {
        "id": "vt1pMK9JO6G5"
      },
      "outputs": [],
      "source": [
        "import torch\n",
        "import torch.nn as nn\n",
        "import torch.optim as optim\n",
        "from torch.utils.data import DataLoader, TensorDataset\n",
        "import numpy as np\n",
        "import pandas as pd\n",
        "import matplotlib.pyplot as plt\n",
        "from sklearn.preprocessing import MinMaxScaler\n",
        "from sklearn.metrics import mean_absolute_error\n",
        "import math"
      ]
    },
    {
      "cell_type": "markdown",
      "source": [
        "# Load Data"
      ],
      "metadata": {
        "id": "HsAVdh349XvS"
      }
    },
    {
      "cell_type": "code",
      "execution_count": null,
      "metadata": {
        "colab": {
          "base_uri": "https://localhost:8080/"
        },
        "id": "TXpO4lLUfDjD",
        "outputId": "3e98afd2-ce27-4cac-daf5-e2510978ed3c"
      },
      "outputs": [
        {
          "output_type": "execute_result",
          "data": {
            "text/plain": [
              "(69680, 8)"
            ]
          },
          "metadata": {},
          "execution_count": 2
        }
      ],
      "source": [
        "data_path = f\"https://github.com/zhouhaoyi/ETDataset/raw/main/ETT-small/ETTm1.csv\"\n",
        "\n",
        "data = pd.read_csv(data_path)\n",
        "data.shape"
      ]
    },
    {
      "cell_type": "code",
      "execution_count": null,
      "metadata": {
        "colab": {
          "base_uri": "https://localhost:8080/",
          "height": 206
        },
        "id": "3IYFRW3qfKzY",
        "outputId": "53395c7f-e340-4e5d-9d75-e0f3f8a06d0b"
      },
      "outputs": [
        {
          "data": {
            "application/vnd.google.colaboratory.intrinsic+json": {
              "summary": "{\n  \"name\": \"data\",\n  \"rows\": 69680,\n  \"fields\": [\n    {\n      \"column\": \"date\",\n      \"properties\": {\n        \"dtype\": \"object\",\n        \"num_unique_values\": 69680,\n        \"samples\": [\n          \"2018-04-09 11:00:00\",\n          \"2017-10-18 23:00:00\",\n          \"2018-03-21 07:00:00\"\n        ],\n        \"semantic_type\": \"\",\n        \"description\": \"\"\n      }\n    },\n    {\n      \"column\": \"HUFL\",\n      \"properties\": {\n        \"dtype\": \"number\",\n        \"std\": 7.082928007665203,\n        \"min\": -23.242000579833984,\n        \"max\": 24.18000030517578,\n        \"num_unique_values\": 667,\n        \"samples\": [\n          -22.84000015258789,\n          16.812000274658207,\n          -19.1560001373291\n        ],\n        \"semantic_type\": \"\",\n        \"description\": \"\"\n      }\n    },\n    {\n      \"column\": \"HULL\",\n      \"properties\": {\n        \"dtype\": \"number\",\n        \"std\": 2.041293332533918,\n        \"min\": -5.692999839782715,\n        \"max\": 10.3149995803833,\n        \"num_unique_values\": 225,\n        \"samples\": [\n          2.477999925613404,\n          9.51099967956543,\n          7.97100019454956\n        ],\n        \"semantic_type\": \"\",\n        \"description\": \"\"\n      }\n    },\n    {\n      \"column\": \"MUFL\",\n      \"properties\": {\n        \"dtype\": \"number\",\n        \"std\": 6.829188917795936,\n        \"min\": -26.367000579833984,\n        \"max\": 18.08699989318848,\n        \"num_unique_values\": 1110,\n        \"samples\": [\n          -14.427000045776367,\n          16.594999313354492,\n          7.676000118255615\n        ],\n        \"semantic_type\": \"\",\n        \"description\": \"\"\n      }\n    },\n    {\n      \"column\": \"MULL\",\n      \"properties\": {\n        \"dtype\": \"number\",\n        \"std\": 1.8072392887432727,\n        \"min\": -6.040999889373777,\n        \"max\": 7.853000164031982,\n        \"num_unique_values\": 373,\n        \"samples\": [\n          -4.2290000915527335,\n          1.6349999904632568,\n          1.1729999780654907\n        ],\n        \"semantic_type\": \"\",\n        \"description\": \"\"\n      }\n    },\n    {\n      \"column\": \"LUFL\",\n      \"properties\": {\n        \"dtype\": \"number\",\n        \"std\": 1.1740630852194425,\n        \"min\": -1.187999963760376,\n        \"max\": 8.498000144958496,\n        \"num_unique_values\": 263,\n        \"samples\": [\n          1.888000011444092,\n          1.7970000505447388,\n          0.7009999752044678\n        ],\n        \"semantic_type\": \"\",\n        \"description\": \"\"\n      }\n    },\n    {\n      \"column\": \"LULL\",\n      \"properties\": {\n        \"dtype\": \"number\",\n        \"std\": 0.600440181063296,\n        \"min\": -1.371000051498413,\n        \"max\": 3.0460000038146973,\n        \"num_unique_values\": 134,\n        \"samples\": [\n          2.5280001163482666,\n          0.4569999873638153,\n          -1.156999945640564\n        ],\n        \"semantic_type\": \"\",\n        \"description\": \"\"\n      }\n    },\n    {\n      \"column\": \"OT\",\n      \"properties\": {\n        \"dtype\": \"number\",\n        \"std\": 8.564816961216218,\n        \"min\": -4.2210001945495605,\n        \"max\": 46.00699996948242,\n        \"num_unique_values\": 700,\n        \"samples\": [\n          32.570999145507805,\n          14.984000205993652,\n          19.90800094604492\n        ],\n        \"semantic_type\": \"\",\n        \"description\": \"\"\n      }\n    }\n  ]\n}",
              "type": "dataframe",
              "variable_name": "data"
            },
            "text/html": [
              "\n",
              "  <div id=\"df-f1542e96-65f1-4a1b-9a7c-b11601198785\" class=\"colab-df-container\">\n",
              "    <div>\n",
              "<style scoped>\n",
              "    .dataframe tbody tr th:only-of-type {\n",
              "        vertical-align: middle;\n",
              "    }\n",
              "\n",
              "    .dataframe tbody tr th {\n",
              "        vertical-align: top;\n",
              "    }\n",
              "\n",
              "    .dataframe thead th {\n",
              "        text-align: right;\n",
              "    }\n",
              "</style>\n",
              "<table border=\"1\" class=\"dataframe\">\n",
              "  <thead>\n",
              "    <tr style=\"text-align: right;\">\n",
              "      <th></th>\n",
              "      <th>date</th>\n",
              "      <th>HUFL</th>\n",
              "      <th>HULL</th>\n",
              "      <th>MUFL</th>\n",
              "      <th>MULL</th>\n",
              "      <th>LUFL</th>\n",
              "      <th>LULL</th>\n",
              "      <th>OT</th>\n",
              "    </tr>\n",
              "  </thead>\n",
              "  <tbody>\n",
              "    <tr>\n",
              "      <th>0</th>\n",
              "      <td>2016-07-01 00:00:00</td>\n",
              "      <td>5.827</td>\n",
              "      <td>2.009</td>\n",
              "      <td>1.599</td>\n",
              "      <td>0.462</td>\n",
              "      <td>4.203</td>\n",
              "      <td>1.340</td>\n",
              "      <td>30.531000</td>\n",
              "    </tr>\n",
              "    <tr>\n",
              "      <th>1</th>\n",
              "      <td>2016-07-01 00:15:00</td>\n",
              "      <td>5.760</td>\n",
              "      <td>2.076</td>\n",
              "      <td>1.492</td>\n",
              "      <td>0.426</td>\n",
              "      <td>4.264</td>\n",
              "      <td>1.401</td>\n",
              "      <td>30.459999</td>\n",
              "    </tr>\n",
              "    <tr>\n",
              "      <th>2</th>\n",
              "      <td>2016-07-01 00:30:00</td>\n",
              "      <td>5.760</td>\n",
              "      <td>1.942</td>\n",
              "      <td>1.492</td>\n",
              "      <td>0.391</td>\n",
              "      <td>4.234</td>\n",
              "      <td>1.310</td>\n",
              "      <td>30.038000</td>\n",
              "    </tr>\n",
              "    <tr>\n",
              "      <th>3</th>\n",
              "      <td>2016-07-01 00:45:00</td>\n",
              "      <td>5.760</td>\n",
              "      <td>1.942</td>\n",
              "      <td>1.492</td>\n",
              "      <td>0.426</td>\n",
              "      <td>4.234</td>\n",
              "      <td>1.310</td>\n",
              "      <td>27.013000</td>\n",
              "    </tr>\n",
              "    <tr>\n",
              "      <th>4</th>\n",
              "      <td>2016-07-01 01:00:00</td>\n",
              "      <td>5.693</td>\n",
              "      <td>2.076</td>\n",
              "      <td>1.492</td>\n",
              "      <td>0.426</td>\n",
              "      <td>4.142</td>\n",
              "      <td>1.371</td>\n",
              "      <td>27.787001</td>\n",
              "    </tr>\n",
              "  </tbody>\n",
              "</table>\n",
              "</div>\n",
              "    <div class=\"colab-df-buttons\">\n",
              "\n",
              "  <div class=\"colab-df-container\">\n",
              "    <button class=\"colab-df-convert\" onclick=\"convertToInteractive('df-f1542e96-65f1-4a1b-9a7c-b11601198785')\"\n",
              "            title=\"Convert this dataframe to an interactive table.\"\n",
              "            style=\"display:none;\">\n",
              "\n",
              "  <svg xmlns=\"http://www.w3.org/2000/svg\" height=\"24px\" viewBox=\"0 -960 960 960\">\n",
              "    <path d=\"M120-120v-720h720v720H120Zm60-500h600v-160H180v160Zm220 220h160v-160H400v160Zm0 220h160v-160H400v160ZM180-400h160v-160H180v160Zm440 0h160v-160H620v160ZM180-180h160v-160H180v160Zm440 0h160v-160H620v160Z\"/>\n",
              "  </svg>\n",
              "    </button>\n",
              "\n",
              "  <style>\n",
              "    .colab-df-container {\n",
              "      display:flex;\n",
              "      gap: 12px;\n",
              "    }\n",
              "\n",
              "    .colab-df-convert {\n",
              "      background-color: #E8F0FE;\n",
              "      border: none;\n",
              "      border-radius: 50%;\n",
              "      cursor: pointer;\n",
              "      display: none;\n",
              "      fill: #1967D2;\n",
              "      height: 32px;\n",
              "      padding: 0 0 0 0;\n",
              "      width: 32px;\n",
              "    }\n",
              "\n",
              "    .colab-df-convert:hover {\n",
              "      background-color: #E2EBFA;\n",
              "      box-shadow: 0px 1px 2px rgba(60, 64, 67, 0.3), 0px 1px 3px 1px rgba(60, 64, 67, 0.15);\n",
              "      fill: #174EA6;\n",
              "    }\n",
              "\n",
              "    .colab-df-buttons div {\n",
              "      margin-bottom: 4px;\n",
              "    }\n",
              "\n",
              "    [theme=dark] .colab-df-convert {\n",
              "      background-color: #3B4455;\n",
              "      fill: #D2E3FC;\n",
              "    }\n",
              "\n",
              "    [theme=dark] .colab-df-convert:hover {\n",
              "      background-color: #434B5C;\n",
              "      box-shadow: 0px 1px 3px 1px rgba(0, 0, 0, 0.15);\n",
              "      filter: drop-shadow(0px 1px 2px rgba(0, 0, 0, 0.3));\n",
              "      fill: #FFFFFF;\n",
              "    }\n",
              "  </style>\n",
              "\n",
              "    <script>\n",
              "      const buttonEl =\n",
              "        document.querySelector('#df-f1542e96-65f1-4a1b-9a7c-b11601198785 button.colab-df-convert');\n",
              "      buttonEl.style.display =\n",
              "        google.colab.kernel.accessAllowed ? 'block' : 'none';\n",
              "\n",
              "      async function convertToInteractive(key) {\n",
              "        const element = document.querySelector('#df-f1542e96-65f1-4a1b-9a7c-b11601198785');\n",
              "        const dataTable =\n",
              "          await google.colab.kernel.invokeFunction('convertToInteractive',\n",
              "                                                    [key], {});\n",
              "        if (!dataTable) return;\n",
              "\n",
              "        const docLinkHtml = 'Like what you see? Visit the ' +\n",
              "          '<a target=\"_blank\" href=https://colab.research.google.com/notebooks/data_table.ipynb>data table notebook</a>'\n",
              "          + ' to learn more about interactive tables.';\n",
              "        element.innerHTML = '';\n",
              "        dataTable['output_type'] = 'display_data';\n",
              "        await google.colab.output.renderOutput(dataTable, element);\n",
              "        const docLink = document.createElement('div');\n",
              "        docLink.innerHTML = docLinkHtml;\n",
              "        element.appendChild(docLink);\n",
              "      }\n",
              "    </script>\n",
              "  </div>\n",
              "\n",
              "\n",
              "<div id=\"df-1b17546e-44d3-4152-85ad-ecd4cd649e1f\">\n",
              "  <button class=\"colab-df-quickchart\" onclick=\"quickchart('df-1b17546e-44d3-4152-85ad-ecd4cd649e1f')\"\n",
              "            title=\"Suggest charts\"\n",
              "            style=\"display:none;\">\n",
              "\n",
              "<svg xmlns=\"http://www.w3.org/2000/svg\" height=\"24px\"viewBox=\"0 0 24 24\"\n",
              "     width=\"24px\">\n",
              "    <g>\n",
              "        <path d=\"M19 3H5c-1.1 0-2 .9-2 2v14c0 1.1.9 2 2 2h14c1.1 0 2-.9 2-2V5c0-1.1-.9-2-2-2zM9 17H7v-7h2v7zm4 0h-2V7h2v10zm4 0h-2v-4h2v4z\"/>\n",
              "    </g>\n",
              "</svg>\n",
              "  </button>\n",
              "\n",
              "<style>\n",
              "  .colab-df-quickchart {\n",
              "      --bg-color: #E8F0FE;\n",
              "      --fill-color: #1967D2;\n",
              "      --hover-bg-color: #E2EBFA;\n",
              "      --hover-fill-color: #174EA6;\n",
              "      --disabled-fill-color: #AAA;\n",
              "      --disabled-bg-color: #DDD;\n",
              "  }\n",
              "\n",
              "  [theme=dark] .colab-df-quickchart {\n",
              "      --bg-color: #3B4455;\n",
              "      --fill-color: #D2E3FC;\n",
              "      --hover-bg-color: #434B5C;\n",
              "      --hover-fill-color: #FFFFFF;\n",
              "      --disabled-bg-color: #3B4455;\n",
              "      --disabled-fill-color: #666;\n",
              "  }\n",
              "\n",
              "  .colab-df-quickchart {\n",
              "    background-color: var(--bg-color);\n",
              "    border: none;\n",
              "    border-radius: 50%;\n",
              "    cursor: pointer;\n",
              "    display: none;\n",
              "    fill: var(--fill-color);\n",
              "    height: 32px;\n",
              "    padding: 0;\n",
              "    width: 32px;\n",
              "  }\n",
              "\n",
              "  .colab-df-quickchart:hover {\n",
              "    background-color: var(--hover-bg-color);\n",
              "    box-shadow: 0 1px 2px rgba(60, 64, 67, 0.3), 0 1px 3px 1px rgba(60, 64, 67, 0.15);\n",
              "    fill: var(--button-hover-fill-color);\n",
              "  }\n",
              "\n",
              "  .colab-df-quickchart-complete:disabled,\n",
              "  .colab-df-quickchart-complete:disabled:hover {\n",
              "    background-color: var(--disabled-bg-color);\n",
              "    fill: var(--disabled-fill-color);\n",
              "    box-shadow: none;\n",
              "  }\n",
              "\n",
              "  .colab-df-spinner {\n",
              "    border: 2px solid var(--fill-color);\n",
              "    border-color: transparent;\n",
              "    border-bottom-color: var(--fill-color);\n",
              "    animation:\n",
              "      spin 1s steps(1) infinite;\n",
              "  }\n",
              "\n",
              "  @keyframes spin {\n",
              "    0% {\n",
              "      border-color: transparent;\n",
              "      border-bottom-color: var(--fill-color);\n",
              "      border-left-color: var(--fill-color);\n",
              "    }\n",
              "    20% {\n",
              "      border-color: transparent;\n",
              "      border-left-color: var(--fill-color);\n",
              "      border-top-color: var(--fill-color);\n",
              "    }\n",
              "    30% {\n",
              "      border-color: transparent;\n",
              "      border-left-color: var(--fill-color);\n",
              "      border-top-color: var(--fill-color);\n",
              "      border-right-color: var(--fill-color);\n",
              "    }\n",
              "    40% {\n",
              "      border-color: transparent;\n",
              "      border-right-color: var(--fill-color);\n",
              "      border-top-color: var(--fill-color);\n",
              "    }\n",
              "    60% {\n",
              "      border-color: transparent;\n",
              "      border-right-color: var(--fill-color);\n",
              "    }\n",
              "    80% {\n",
              "      border-color: transparent;\n",
              "      border-right-color: var(--fill-color);\n",
              "      border-bottom-color: var(--fill-color);\n",
              "    }\n",
              "    90% {\n",
              "      border-color: transparent;\n",
              "      border-bottom-color: var(--fill-color);\n",
              "    }\n",
              "  }\n",
              "</style>\n",
              "\n",
              "  <script>\n",
              "    async function quickchart(key) {\n",
              "      const quickchartButtonEl =\n",
              "        document.querySelector('#' + key + ' button');\n",
              "      quickchartButtonEl.disabled = true;  // To prevent multiple clicks.\n",
              "      quickchartButtonEl.classList.add('colab-df-spinner');\n",
              "      try {\n",
              "        const charts = await google.colab.kernel.invokeFunction(\n",
              "            'suggestCharts', [key], {});\n",
              "      } catch (error) {\n",
              "        console.error('Error during call to suggestCharts:', error);\n",
              "      }\n",
              "      quickchartButtonEl.classList.remove('colab-df-spinner');\n",
              "      quickchartButtonEl.classList.add('colab-df-quickchart-complete');\n",
              "    }\n",
              "    (() => {\n",
              "      let quickchartButtonEl =\n",
              "        document.querySelector('#df-1b17546e-44d3-4152-85ad-ecd4cd649e1f button');\n",
              "      quickchartButtonEl.style.display =\n",
              "        google.colab.kernel.accessAllowed ? 'block' : 'none';\n",
              "    })();\n",
              "  </script>\n",
              "</div>\n",
              "\n",
              "    </div>\n",
              "  </div>\n"
            ],
            "text/plain": [
              "                  date   HUFL   HULL   MUFL   MULL   LUFL   LULL         OT\n",
              "0  2016-07-01 00:00:00  5.827  2.009  1.599  0.462  4.203  1.340  30.531000\n",
              "1  2016-07-01 00:15:00  5.760  2.076  1.492  0.426  4.264  1.401  30.459999\n",
              "2  2016-07-01 00:30:00  5.760  1.942  1.492  0.391  4.234  1.310  30.038000\n",
              "3  2016-07-01 00:45:00  5.760  1.942  1.492  0.426  4.234  1.310  27.013000\n",
              "4  2016-07-01 01:00:00  5.693  2.076  1.492  0.426  4.142  1.371  27.787001"
            ]
          },
          "execution_count": 8,
          "metadata": {},
          "output_type": "execute_result"
        }
      ],
      "source": [
        "data.head()"
      ]
    },
    {
      "cell_type": "code",
      "execution_count": null,
      "metadata": {
        "colab": {
          "base_uri": "https://localhost:8080/",
          "height": 335
        },
        "id": "C4a91l29f88X",
        "outputId": "1d8bf613-322b-4f57-efbd-b04259644380"
      },
      "outputs": [
        {
          "data": {
            "text/html": [
              "<div>\n",
              "<style scoped>\n",
              "    .dataframe tbody tr th:only-of-type {\n",
              "        vertical-align: middle;\n",
              "    }\n",
              "\n",
              "    .dataframe tbody tr th {\n",
              "        vertical-align: top;\n",
              "    }\n",
              "\n",
              "    .dataframe thead th {\n",
              "        text-align: right;\n",
              "    }\n",
              "</style>\n",
              "<table border=\"1\" class=\"dataframe\">\n",
              "  <thead>\n",
              "    <tr style=\"text-align: right;\">\n",
              "      <th></th>\n",
              "      <th>0</th>\n",
              "    </tr>\n",
              "  </thead>\n",
              "  <tbody>\n",
              "    <tr>\n",
              "      <th>date</th>\n",
              "      <td>0</td>\n",
              "    </tr>\n",
              "    <tr>\n",
              "      <th>HUFL</th>\n",
              "      <td>0</td>\n",
              "    </tr>\n",
              "    <tr>\n",
              "      <th>HULL</th>\n",
              "      <td>0</td>\n",
              "    </tr>\n",
              "    <tr>\n",
              "      <th>MUFL</th>\n",
              "      <td>0</td>\n",
              "    </tr>\n",
              "    <tr>\n",
              "      <th>MULL</th>\n",
              "      <td>0</td>\n",
              "    </tr>\n",
              "    <tr>\n",
              "      <th>LUFL</th>\n",
              "      <td>0</td>\n",
              "    </tr>\n",
              "    <tr>\n",
              "      <th>LULL</th>\n",
              "      <td>0</td>\n",
              "    </tr>\n",
              "    <tr>\n",
              "      <th>OT</th>\n",
              "      <td>0</td>\n",
              "    </tr>\n",
              "  </tbody>\n",
              "</table>\n",
              "</div><br><label><b>dtype:</b> int64</label>"
            ],
            "text/plain": [
              "date    0\n",
              "HUFL    0\n",
              "HULL    0\n",
              "MUFL    0\n",
              "MULL    0\n",
              "LUFL    0\n",
              "LULL    0\n",
              "OT      0\n",
              "dtype: int64"
            ]
          },
          "execution_count": 5,
          "metadata": {},
          "output_type": "execute_result"
        }
      ],
      "source": [
        "data.isnull().sum()"
      ]
    },
    {
      "cell_type": "code",
      "execution_count": null,
      "metadata": {
        "colab": {
          "base_uri": "https://localhost:8080/",
          "height": 320
        },
        "id": "g5zMqwit0xo0",
        "outputId": "418f47b3-6635-4204-a989-e7ece2a4ea9a"
      },
      "outputs": [
        {
          "data": {
            "application/vnd.google.colaboratory.intrinsic+json": {
              "summary": "{\n  \"name\": \"data\",\n  \"rows\": 8,\n  \"fields\": [\n    {\n      \"column\": \"HUFL\",\n      \"properties\": {\n        \"dtype\": \"number\",\n        \"std\": 24633.488013195398,\n        \"min\": -23.242000579833984,\n        \"max\": 69680.0,\n        \"num_unique_values\": 8,\n        \"samples\": [\n          7.413993338750831,\n          8.840999603271484,\n          69680.0\n        ],\n        \"semantic_type\": \"\",\n        \"description\": \"\"\n      }\n    },\n    {\n      \"column\": \"HULL\",\n      \"properties\": {\n        \"dtype\": \"number\",\n        \"std\": 24634.81157412716,\n        \"min\": -5.692999839782715,\n        \"max\": 69680.0,\n        \"num_unique_values\": 8,\n        \"samples\": [\n          2.26141838280807,\n          2.2100000381469727,\n          69680.0\n        ],\n        \"semantic_type\": \"\",\n        \"description\": \"\"\n      }\n    },\n    {\n      \"column\": \"MUFL\",\n      \"properties\": {\n        \"dtype\": \"number\",\n        \"std\": 24634.55219549406,\n        \"min\": -26.367000579833984,\n        \"max\": 69680.0,\n        \"num_unique_values\": 8,\n        \"samples\": [\n          4.322226455704824,\n          6.005000114440918,\n          69680.0\n        ],\n        \"semantic_type\": \"\",\n        \"description\": \"\"\n      }\n    },\n    {\n      \"column\": \"MULL\",\n      \"properties\": {\n        \"dtype\": \"number\",\n        \"std\": 24635.227106591537,\n        \"min\": -6.040999889373777,\n        \"max\": 69680.0,\n        \"num_unique_values\": 8,\n        \"samples\": [\n          0.8965089415929288,\n          0.9589999914169312,\n          69680.0\n        ],\n        \"semantic_type\": \"\",\n        \"description\": \"\"\n      }\n    },\n    {\n      \"column\": \"LUFL\",\n      \"properties\": {\n        \"dtype\": \"number\",\n        \"std\": 24634.571569325686,\n        \"min\": -1.187999963760376,\n        \"max\": 69680.0,\n        \"num_unique_values\": 8,\n        \"samples\": [\n          3.0828884045137936,\n          2.8329999446868896,\n          69680.0\n        ],\n        \"semantic_type\": \"\",\n        \"description\": \"\"\n      }\n    },\n    {\n      \"column\": \"LULL\",\n      \"properties\": {\n        \"dtype\": \"number\",\n        \"std\": 24635.29742424204,\n        \"min\": -1.371000051498413,\n        \"max\": 69680.0,\n        \"num_unique_values\": 8,\n        \"samples\": [\n          0.857907461289217,\n          0.975000023841858,\n          69680.0\n        ],\n        \"semantic_type\": \"\",\n        \"description\": \"\"\n      }\n    },\n    {\n      \"column\": \"OT\",\n      \"properties\": {\n        \"dtype\": \"number\",\n        \"std\": 24630.548145147724,\n        \"min\": -4.2210001945495605,\n        \"max\": 69680.0,\n        \"num_unique_values\": 8,\n        \"samples\": [\n          13.320641713825522,\n          11.395999908447266,\n          69680.0\n        ],\n        \"semantic_type\": \"\",\n        \"description\": \"\"\n      }\n    }\n  ]\n}",
              "type": "dataframe"
            },
            "text/html": [
              "\n",
              "  <div id=\"df-d013ee5f-5f50-43df-b71c-759a2daa23bc\" class=\"colab-df-container\">\n",
              "    <div>\n",
              "<style scoped>\n",
              "    .dataframe tbody tr th:only-of-type {\n",
              "        vertical-align: middle;\n",
              "    }\n",
              "\n",
              "    .dataframe tbody tr th {\n",
              "        vertical-align: top;\n",
              "    }\n",
              "\n",
              "    .dataframe thead th {\n",
              "        text-align: right;\n",
              "    }\n",
              "</style>\n",
              "<table border=\"1\" class=\"dataframe\">\n",
              "  <thead>\n",
              "    <tr style=\"text-align: right;\">\n",
              "      <th></th>\n",
              "      <th>HUFL</th>\n",
              "      <th>HULL</th>\n",
              "      <th>MUFL</th>\n",
              "      <th>MULL</th>\n",
              "      <th>LUFL</th>\n",
              "      <th>LULL</th>\n",
              "      <th>OT</th>\n",
              "    </tr>\n",
              "  </thead>\n",
              "  <tbody>\n",
              "    <tr>\n",
              "      <th>count</th>\n",
              "      <td>69680.000000</td>\n",
              "      <td>69680.000000</td>\n",
              "      <td>69680.000000</td>\n",
              "      <td>69680.000000</td>\n",
              "      <td>69680.000000</td>\n",
              "      <td>69680.000000</td>\n",
              "      <td>69680.000000</td>\n",
              "    </tr>\n",
              "    <tr>\n",
              "      <th>mean</th>\n",
              "      <td>7.413993</td>\n",
              "      <td>2.261418</td>\n",
              "      <td>4.322226</td>\n",
              "      <td>0.896509</td>\n",
              "      <td>3.082888</td>\n",
              "      <td>0.857907</td>\n",
              "      <td>13.320642</td>\n",
              "    </tr>\n",
              "    <tr>\n",
              "      <th>std</th>\n",
              "      <td>7.082928</td>\n",
              "      <td>2.041293</td>\n",
              "      <td>6.829189</td>\n",
              "      <td>1.807239</td>\n",
              "      <td>1.174063</td>\n",
              "      <td>0.600440</td>\n",
              "      <td>8.564817</td>\n",
              "    </tr>\n",
              "    <tr>\n",
              "      <th>min</th>\n",
              "      <td>-23.242001</td>\n",
              "      <td>-5.693000</td>\n",
              "      <td>-26.367001</td>\n",
              "      <td>-6.041000</td>\n",
              "      <td>-1.188000</td>\n",
              "      <td>-1.371000</td>\n",
              "      <td>-4.221000</td>\n",
              "    </tr>\n",
              "    <tr>\n",
              "      <th>25%</th>\n",
              "      <td>5.827000</td>\n",
              "      <td>0.804000</td>\n",
              "      <td>3.305000</td>\n",
              "      <td>-0.284000</td>\n",
              "      <td>2.315000</td>\n",
              "      <td>0.670000</td>\n",
              "      <td>6.964000</td>\n",
              "    </tr>\n",
              "    <tr>\n",
              "      <th>50%</th>\n",
              "      <td>8.841000</td>\n",
              "      <td>2.210000</td>\n",
              "      <td>6.005000</td>\n",
              "      <td>0.959000</td>\n",
              "      <td>2.833000</td>\n",
              "      <td>0.975000</td>\n",
              "      <td>11.396000</td>\n",
              "    </tr>\n",
              "    <tr>\n",
              "      <th>75%</th>\n",
              "      <td>11.788000</td>\n",
              "      <td>3.684000</td>\n",
              "      <td>8.635000</td>\n",
              "      <td>2.203000</td>\n",
              "      <td>3.655000</td>\n",
              "      <td>1.218000</td>\n",
              "      <td>18.079000</td>\n",
              "    </tr>\n",
              "    <tr>\n",
              "      <th>max</th>\n",
              "      <td>24.180000</td>\n",
              "      <td>10.315000</td>\n",
              "      <td>18.087000</td>\n",
              "      <td>7.853000</td>\n",
              "      <td>8.498000</td>\n",
              "      <td>3.046000</td>\n",
              "      <td>46.007000</td>\n",
              "    </tr>\n",
              "  </tbody>\n",
              "</table>\n",
              "</div>\n",
              "    <div class=\"colab-df-buttons\">\n",
              "\n",
              "  <div class=\"colab-df-container\">\n",
              "    <button class=\"colab-df-convert\" onclick=\"convertToInteractive('df-d013ee5f-5f50-43df-b71c-759a2daa23bc')\"\n",
              "            title=\"Convert this dataframe to an interactive table.\"\n",
              "            style=\"display:none;\">\n",
              "\n",
              "  <svg xmlns=\"http://www.w3.org/2000/svg\" height=\"24px\" viewBox=\"0 -960 960 960\">\n",
              "    <path d=\"M120-120v-720h720v720H120Zm60-500h600v-160H180v160Zm220 220h160v-160H400v160Zm0 220h160v-160H400v160ZM180-400h160v-160H180v160Zm440 0h160v-160H620v160ZM180-180h160v-160H180v160Zm440 0h160v-160H620v160Z\"/>\n",
              "  </svg>\n",
              "    </button>\n",
              "\n",
              "  <style>\n",
              "    .colab-df-container {\n",
              "      display:flex;\n",
              "      gap: 12px;\n",
              "    }\n",
              "\n",
              "    .colab-df-convert {\n",
              "      background-color: #E8F0FE;\n",
              "      border: none;\n",
              "      border-radius: 50%;\n",
              "      cursor: pointer;\n",
              "      display: none;\n",
              "      fill: #1967D2;\n",
              "      height: 32px;\n",
              "      padding: 0 0 0 0;\n",
              "      width: 32px;\n",
              "    }\n",
              "\n",
              "    .colab-df-convert:hover {\n",
              "      background-color: #E2EBFA;\n",
              "      box-shadow: 0px 1px 2px rgba(60, 64, 67, 0.3), 0px 1px 3px 1px rgba(60, 64, 67, 0.15);\n",
              "      fill: #174EA6;\n",
              "    }\n",
              "\n",
              "    .colab-df-buttons div {\n",
              "      margin-bottom: 4px;\n",
              "    }\n",
              "\n",
              "    [theme=dark] .colab-df-convert {\n",
              "      background-color: #3B4455;\n",
              "      fill: #D2E3FC;\n",
              "    }\n",
              "\n",
              "    [theme=dark] .colab-df-convert:hover {\n",
              "      background-color: #434B5C;\n",
              "      box-shadow: 0px 1px 3px 1px rgba(0, 0, 0, 0.15);\n",
              "      filter: drop-shadow(0px 1px 2px rgba(0, 0, 0, 0.3));\n",
              "      fill: #FFFFFF;\n",
              "    }\n",
              "  </style>\n",
              "\n",
              "    <script>\n",
              "      const buttonEl =\n",
              "        document.querySelector('#df-d013ee5f-5f50-43df-b71c-759a2daa23bc button.colab-df-convert');\n",
              "      buttonEl.style.display =\n",
              "        google.colab.kernel.accessAllowed ? 'block' : 'none';\n",
              "\n",
              "      async function convertToInteractive(key) {\n",
              "        const element = document.querySelector('#df-d013ee5f-5f50-43df-b71c-759a2daa23bc');\n",
              "        const dataTable =\n",
              "          await google.colab.kernel.invokeFunction('convertToInteractive',\n",
              "                                                    [key], {});\n",
              "        if (!dataTable) return;\n",
              "\n",
              "        const docLinkHtml = 'Like what you see? Visit the ' +\n",
              "          '<a target=\"_blank\" href=https://colab.research.google.com/notebooks/data_table.ipynb>data table notebook</a>'\n",
              "          + ' to learn more about interactive tables.';\n",
              "        element.innerHTML = '';\n",
              "        dataTable['output_type'] = 'display_data';\n",
              "        await google.colab.output.renderOutput(dataTable, element);\n",
              "        const docLink = document.createElement('div');\n",
              "        docLink.innerHTML = docLinkHtml;\n",
              "        element.appendChild(docLink);\n",
              "      }\n",
              "    </script>\n",
              "  </div>\n",
              "\n",
              "\n",
              "<div id=\"df-ee2898fb-fcf9-4c03-9993-20f08302de7c\">\n",
              "  <button class=\"colab-df-quickchart\" onclick=\"quickchart('df-ee2898fb-fcf9-4c03-9993-20f08302de7c')\"\n",
              "            title=\"Suggest charts\"\n",
              "            style=\"display:none;\">\n",
              "\n",
              "<svg xmlns=\"http://www.w3.org/2000/svg\" height=\"24px\"viewBox=\"0 0 24 24\"\n",
              "     width=\"24px\">\n",
              "    <g>\n",
              "        <path d=\"M19 3H5c-1.1 0-2 .9-2 2v14c0 1.1.9 2 2 2h14c1.1 0 2-.9 2-2V5c0-1.1-.9-2-2-2zM9 17H7v-7h2v7zm4 0h-2V7h2v10zm4 0h-2v-4h2v4z\"/>\n",
              "    </g>\n",
              "</svg>\n",
              "  </button>\n",
              "\n",
              "<style>\n",
              "  .colab-df-quickchart {\n",
              "      --bg-color: #E8F0FE;\n",
              "      --fill-color: #1967D2;\n",
              "      --hover-bg-color: #E2EBFA;\n",
              "      --hover-fill-color: #174EA6;\n",
              "      --disabled-fill-color: #AAA;\n",
              "      --disabled-bg-color: #DDD;\n",
              "  }\n",
              "\n",
              "  [theme=dark] .colab-df-quickchart {\n",
              "      --bg-color: #3B4455;\n",
              "      --fill-color: #D2E3FC;\n",
              "      --hover-bg-color: #434B5C;\n",
              "      --hover-fill-color: #FFFFFF;\n",
              "      --disabled-bg-color: #3B4455;\n",
              "      --disabled-fill-color: #666;\n",
              "  }\n",
              "\n",
              "  .colab-df-quickchart {\n",
              "    background-color: var(--bg-color);\n",
              "    border: none;\n",
              "    border-radius: 50%;\n",
              "    cursor: pointer;\n",
              "    display: none;\n",
              "    fill: var(--fill-color);\n",
              "    height: 32px;\n",
              "    padding: 0;\n",
              "    width: 32px;\n",
              "  }\n",
              "\n",
              "  .colab-df-quickchart:hover {\n",
              "    background-color: var(--hover-bg-color);\n",
              "    box-shadow: 0 1px 2px rgba(60, 64, 67, 0.3), 0 1px 3px 1px rgba(60, 64, 67, 0.15);\n",
              "    fill: var(--button-hover-fill-color);\n",
              "  }\n",
              "\n",
              "  .colab-df-quickchart-complete:disabled,\n",
              "  .colab-df-quickchart-complete:disabled:hover {\n",
              "    background-color: var(--disabled-bg-color);\n",
              "    fill: var(--disabled-fill-color);\n",
              "    box-shadow: none;\n",
              "  }\n",
              "\n",
              "  .colab-df-spinner {\n",
              "    border: 2px solid var(--fill-color);\n",
              "    border-color: transparent;\n",
              "    border-bottom-color: var(--fill-color);\n",
              "    animation:\n",
              "      spin 1s steps(1) infinite;\n",
              "  }\n",
              "\n",
              "  @keyframes spin {\n",
              "    0% {\n",
              "      border-color: transparent;\n",
              "      border-bottom-color: var(--fill-color);\n",
              "      border-left-color: var(--fill-color);\n",
              "    }\n",
              "    20% {\n",
              "      border-color: transparent;\n",
              "      border-left-color: var(--fill-color);\n",
              "      border-top-color: var(--fill-color);\n",
              "    }\n",
              "    30% {\n",
              "      border-color: transparent;\n",
              "      border-left-color: var(--fill-color);\n",
              "      border-top-color: var(--fill-color);\n",
              "      border-right-color: var(--fill-color);\n",
              "    }\n",
              "    40% {\n",
              "      border-color: transparent;\n",
              "      border-right-color: var(--fill-color);\n",
              "      border-top-color: var(--fill-color);\n",
              "    }\n",
              "    60% {\n",
              "      border-color: transparent;\n",
              "      border-right-color: var(--fill-color);\n",
              "    }\n",
              "    80% {\n",
              "      border-color: transparent;\n",
              "      border-right-color: var(--fill-color);\n",
              "      border-bottom-color: var(--fill-color);\n",
              "    }\n",
              "    90% {\n",
              "      border-color: transparent;\n",
              "      border-bottom-color: var(--fill-color);\n",
              "    }\n",
              "  }\n",
              "</style>\n",
              "\n",
              "  <script>\n",
              "    async function quickchart(key) {\n",
              "      const quickchartButtonEl =\n",
              "        document.querySelector('#' + key + ' button');\n",
              "      quickchartButtonEl.disabled = true;  // To prevent multiple clicks.\n",
              "      quickchartButtonEl.classList.add('colab-df-spinner');\n",
              "      try {\n",
              "        const charts = await google.colab.kernel.invokeFunction(\n",
              "            'suggestCharts', [key], {});\n",
              "      } catch (error) {\n",
              "        console.error('Error during call to suggestCharts:', error);\n",
              "      }\n",
              "      quickchartButtonEl.classList.remove('colab-df-spinner');\n",
              "      quickchartButtonEl.classList.add('colab-df-quickchart-complete');\n",
              "    }\n",
              "    (() => {\n",
              "      let quickchartButtonEl =\n",
              "        document.querySelector('#df-ee2898fb-fcf9-4c03-9993-20f08302de7c button');\n",
              "      quickchartButtonEl.style.display =\n",
              "        google.colab.kernel.accessAllowed ? 'block' : 'none';\n",
              "    })();\n",
              "  </script>\n",
              "</div>\n",
              "\n",
              "    </div>\n",
              "  </div>\n"
            ],
            "text/plain": [
              "               HUFL          HULL          MUFL          MULL          LUFL  \\\n",
              "count  69680.000000  69680.000000  69680.000000  69680.000000  69680.000000   \n",
              "mean       7.413993      2.261418      4.322226      0.896509      3.082888   \n",
              "std        7.082928      2.041293      6.829189      1.807239      1.174063   \n",
              "min      -23.242001     -5.693000    -26.367001     -6.041000     -1.188000   \n",
              "25%        5.827000      0.804000      3.305000     -0.284000      2.315000   \n",
              "50%        8.841000      2.210000      6.005000      0.959000      2.833000   \n",
              "75%       11.788000      3.684000      8.635000      2.203000      3.655000   \n",
              "max       24.180000     10.315000     18.087000      7.853000      8.498000   \n",
              "\n",
              "               LULL            OT  \n",
              "count  69680.000000  69680.000000  \n",
              "mean       0.857907     13.320642  \n",
              "std        0.600440      8.564817  \n",
              "min       -1.371000     -4.221000  \n",
              "25%        0.670000      6.964000  \n",
              "50%        0.975000     11.396000  \n",
              "75%        1.218000     18.079000  \n",
              "max        3.046000     46.007000  "
            ]
          },
          "execution_count": 17,
          "metadata": {},
          "output_type": "execute_result"
        }
      ],
      "source": [
        "data.describe()"
      ]
    },
    {
      "cell_type": "code",
      "execution_count": null,
      "metadata": {
        "colab": {
          "base_uri": "https://localhost:8080/"
        },
        "id": "DZNK8_EPzhXo",
        "outputId": "48c62ff0-c6cd-4d43-fc9e-18cea14a96be"
      },
      "outputs": [
        {
          "name": "stdout",
          "output_type": "stream",
          "text": [
            "<class 'pandas.core.frame.DataFrame'>\n",
            "RangeIndex: 69680 entries, 0 to 69679\n",
            "Data columns (total 8 columns):\n",
            " #   Column  Non-Null Count  Dtype  \n",
            "---  ------  --------------  -----  \n",
            " 0   date    69680 non-null  object \n",
            " 1   HUFL    69680 non-null  float64\n",
            " 2   HULL    69680 non-null  float64\n",
            " 3   MUFL    69680 non-null  float64\n",
            " 4   MULL    69680 non-null  float64\n",
            " 5   LUFL    69680 non-null  float64\n",
            " 6   LULL    69680 non-null  float64\n",
            " 7   OT      69680 non-null  float64\n",
            "dtypes: float64(7), object(1)\n",
            "memory usage: 4.3+ MB\n"
          ]
        }
      ],
      "source": [
        "data.info()"
      ]
    },
    {
      "cell_type": "code",
      "execution_count": null,
      "metadata": {
        "id": "5NBm2fDDtUGh"
      },
      "outputs": [],
      "source": [
        "batch = next(iter(dataloader))"
      ]
    },
    {
      "cell_type": "code",
      "execution_count": null,
      "metadata": {
        "colab": {
          "base_uri": "https://localhost:8080/",
          "height": 36
        },
        "id": "XnkjTcWTtib0",
        "outputId": "b9994bae-3c3e-412c-d8c0-b1ee0fa822eb"
      },
      "outputs": [
        {
          "data": {
            "application/vnd.google.colaboratory.intrinsic+json": {
              "type": "string"
            },
            "text/plain": [
              "'torch.FloatTensor'"
            ]
          },
          "execution_count": 14,
          "metadata": {},
          "output_type": "execute_result"
        }
      ],
      "source": [
        "batch[0].type()"
      ]
    },
    {
      "cell_type": "code",
      "execution_count": null,
      "metadata": {
        "id": "cF4W8h_suLjp"
      },
      "outputs": [],
      "source": []
    },
    {
      "cell_type": "code",
      "execution_count": null,
      "metadata": {
        "colab": {
          "base_uri": "https://localhost:8080/"
        },
        "id": "lX1NDKFlzgmJ",
        "outputId": "64927ede-4cd3-4e9b-dd89-40e7d637a99d"
      },
      "outputs": [
        {
          "data": {
            "text/plain": [
              "697"
            ]
          },
          "execution_count": 26,
          "metadata": {},
          "output_type": "execute_result"
        }
      ],
      "source": [
        "len(dataloader)"
      ]
    },
    {
      "cell_type": "code",
      "execution_count": null,
      "metadata": {
        "colab": {
          "base_uri": "https://localhost:8080/"
        },
        "id": "_jZLiPQ8P5Zk",
        "outputId": "42997756-1f94-4b00-fcf3-c54e403d5cf4"
      },
      "outputs": [
        {
          "data": {
            "text/plain": [
              "Index(['date', 'HUFL', 'HULL', 'MUFL', 'MULL', 'LUFL', 'LULL', 'OT'], dtype='object')"
            ]
          },
          "execution_count": 18,
          "metadata": {},
          "output_type": "execute_result"
        }
      ],
      "source": [
        "data.columns"
      ]
    },
    {
      "cell_type": "markdown",
      "source": [
        "# Data Preprocessing"
      ],
      "metadata": {
        "id": "3-f2HPRJ9OLD"
      }
    },
    {
      "cell_type": "code",
      "execution_count": null,
      "metadata": {
        "id": "MOH_YDebOoud"
      },
      "outputs": [],
      "source": [
        "input_cols = data.columns[1:8]\n",
        "output_col = ['OT']\n",
        "\n",
        "inputs = data[input_cols].values\n",
        "outputs = data[output_col].values\n",
        "\n",
        "scaler_inputs = MinMaxScaler()\n",
        "inputs_scaled = scaler_inputs.fit_transform(inputs)\n",
        "\n",
        "scaler_outputs = MinMaxScaler()\n",
        "outputs_scaled = scaler_outputs.fit_transform(outputs)"
      ]
    },
    {
      "cell_type": "code",
      "source": [
        "inputs_scaled_df = pd.DataFrame(inputs_scaled)\n",
        "inputs_scaled_df.describe()"
      ],
      "metadata": {
        "colab": {
          "base_uri": "https://localhost:8080/",
          "height": 320
        },
        "id": "0AnIUip7DVhD",
        "outputId": "bf4f8a12-f326-4038-c218-a0bc6b7cb60d"
      },
      "execution_count": null,
      "outputs": [
        {
          "output_type": "execute_result",
          "data": {
            "text/plain": [
              "                  0             1             2             3             4  \\\n",
              "count  69680.000000  69680.000000  69680.000000  69680.000000  69680.000000   \n",
              "mean       0.646451      0.496903      0.690359      0.499317      0.440934   \n",
              "std        0.149360      0.127517      0.153624      0.130073      0.121212   \n",
              "min        0.000000      0.000000      0.000000      0.000000      0.000000   \n",
              "25%        0.612986      0.405860      0.667476      0.414352      0.361656   \n",
              "50%        0.676543      0.493691      0.728213      0.503815      0.415135   \n",
              "75%        0.738687      0.585770      0.787376      0.593350      0.500000   \n",
              "max        1.000000      1.000000      1.000000      1.000000      1.000000   \n",
              "\n",
              "                  5             6  \n",
              "count  69680.000000  69680.000000  \n",
              "mean       0.504620      0.349240  \n",
              "std        0.135938      0.170519  \n",
              "min        0.000000      0.000000  \n",
              "25%        0.462078      0.222685  \n",
              "50%        0.531130      0.310922  \n",
              "75%        0.586144      0.443975  \n",
              "max        1.000000      1.000000  "
            ],
            "text/html": [
              "\n",
              "  <div id=\"df-9b50989e-031f-457d-82df-7f181accdf72\" class=\"colab-df-container\">\n",
              "    <div>\n",
              "<style scoped>\n",
              "    .dataframe tbody tr th:only-of-type {\n",
              "        vertical-align: middle;\n",
              "    }\n",
              "\n",
              "    .dataframe tbody tr th {\n",
              "        vertical-align: top;\n",
              "    }\n",
              "\n",
              "    .dataframe thead th {\n",
              "        text-align: right;\n",
              "    }\n",
              "</style>\n",
              "<table border=\"1\" class=\"dataframe\">\n",
              "  <thead>\n",
              "    <tr style=\"text-align: right;\">\n",
              "      <th></th>\n",
              "      <th>0</th>\n",
              "      <th>1</th>\n",
              "      <th>2</th>\n",
              "      <th>3</th>\n",
              "      <th>4</th>\n",
              "      <th>5</th>\n",
              "      <th>6</th>\n",
              "    </tr>\n",
              "  </thead>\n",
              "  <tbody>\n",
              "    <tr>\n",
              "      <th>count</th>\n",
              "      <td>69680.000000</td>\n",
              "      <td>69680.000000</td>\n",
              "      <td>69680.000000</td>\n",
              "      <td>69680.000000</td>\n",
              "      <td>69680.000000</td>\n",
              "      <td>69680.000000</td>\n",
              "      <td>69680.000000</td>\n",
              "    </tr>\n",
              "    <tr>\n",
              "      <th>mean</th>\n",
              "      <td>0.646451</td>\n",
              "      <td>0.496903</td>\n",
              "      <td>0.690359</td>\n",
              "      <td>0.499317</td>\n",
              "      <td>0.440934</td>\n",
              "      <td>0.504620</td>\n",
              "      <td>0.349240</td>\n",
              "    </tr>\n",
              "    <tr>\n",
              "      <th>std</th>\n",
              "      <td>0.149360</td>\n",
              "      <td>0.127517</td>\n",
              "      <td>0.153624</td>\n",
              "      <td>0.130073</td>\n",
              "      <td>0.121212</td>\n",
              "      <td>0.135938</td>\n",
              "      <td>0.170519</td>\n",
              "    </tr>\n",
              "    <tr>\n",
              "      <th>min</th>\n",
              "      <td>0.000000</td>\n",
              "      <td>0.000000</td>\n",
              "      <td>0.000000</td>\n",
              "      <td>0.000000</td>\n",
              "      <td>0.000000</td>\n",
              "      <td>0.000000</td>\n",
              "      <td>0.000000</td>\n",
              "    </tr>\n",
              "    <tr>\n",
              "      <th>25%</th>\n",
              "      <td>0.612986</td>\n",
              "      <td>0.405860</td>\n",
              "      <td>0.667476</td>\n",
              "      <td>0.414352</td>\n",
              "      <td>0.361656</td>\n",
              "      <td>0.462078</td>\n",
              "      <td>0.222685</td>\n",
              "    </tr>\n",
              "    <tr>\n",
              "      <th>50%</th>\n",
              "      <td>0.676543</td>\n",
              "      <td>0.493691</td>\n",
              "      <td>0.728213</td>\n",
              "      <td>0.503815</td>\n",
              "      <td>0.415135</td>\n",
              "      <td>0.531130</td>\n",
              "      <td>0.310922</td>\n",
              "    </tr>\n",
              "    <tr>\n",
              "      <th>75%</th>\n",
              "      <td>0.738687</td>\n",
              "      <td>0.585770</td>\n",
              "      <td>0.787376</td>\n",
              "      <td>0.593350</td>\n",
              "      <td>0.500000</td>\n",
              "      <td>0.586144</td>\n",
              "      <td>0.443975</td>\n",
              "    </tr>\n",
              "    <tr>\n",
              "      <th>max</th>\n",
              "      <td>1.000000</td>\n",
              "      <td>1.000000</td>\n",
              "      <td>1.000000</td>\n",
              "      <td>1.000000</td>\n",
              "      <td>1.000000</td>\n",
              "      <td>1.000000</td>\n",
              "      <td>1.000000</td>\n",
              "    </tr>\n",
              "  </tbody>\n",
              "</table>\n",
              "</div>\n",
              "    <div class=\"colab-df-buttons\">\n",
              "\n",
              "  <div class=\"colab-df-container\">\n",
              "    <button class=\"colab-df-convert\" onclick=\"convertToInteractive('df-9b50989e-031f-457d-82df-7f181accdf72')\"\n",
              "            title=\"Convert this dataframe to an interactive table.\"\n",
              "            style=\"display:none;\">\n",
              "\n",
              "  <svg xmlns=\"http://www.w3.org/2000/svg\" height=\"24px\" viewBox=\"0 -960 960 960\">\n",
              "    <path d=\"M120-120v-720h720v720H120Zm60-500h600v-160H180v160Zm220 220h160v-160H400v160Zm0 220h160v-160H400v160ZM180-400h160v-160H180v160Zm440 0h160v-160H620v160ZM180-180h160v-160H180v160Zm440 0h160v-160H620v160Z\"/>\n",
              "  </svg>\n",
              "    </button>\n",
              "\n",
              "  <style>\n",
              "    .colab-df-container {\n",
              "      display:flex;\n",
              "      gap: 12px;\n",
              "    }\n",
              "\n",
              "    .colab-df-convert {\n",
              "      background-color: #E8F0FE;\n",
              "      border: none;\n",
              "      border-radius: 50%;\n",
              "      cursor: pointer;\n",
              "      display: none;\n",
              "      fill: #1967D2;\n",
              "      height: 32px;\n",
              "      padding: 0 0 0 0;\n",
              "      width: 32px;\n",
              "    }\n",
              "\n",
              "    .colab-df-convert:hover {\n",
              "      background-color: #E2EBFA;\n",
              "      box-shadow: 0px 1px 2px rgba(60, 64, 67, 0.3), 0px 1px 3px 1px rgba(60, 64, 67, 0.15);\n",
              "      fill: #174EA6;\n",
              "    }\n",
              "\n",
              "    .colab-df-buttons div {\n",
              "      margin-bottom: 4px;\n",
              "    }\n",
              "\n",
              "    [theme=dark] .colab-df-convert {\n",
              "      background-color: #3B4455;\n",
              "      fill: #D2E3FC;\n",
              "    }\n",
              "\n",
              "    [theme=dark] .colab-df-convert:hover {\n",
              "      background-color: #434B5C;\n",
              "      box-shadow: 0px 1px 3px 1px rgba(0, 0, 0, 0.15);\n",
              "      filter: drop-shadow(0px 1px 2px rgba(0, 0, 0, 0.3));\n",
              "      fill: #FFFFFF;\n",
              "    }\n",
              "  </style>\n",
              "\n",
              "    <script>\n",
              "      const buttonEl =\n",
              "        document.querySelector('#df-9b50989e-031f-457d-82df-7f181accdf72 button.colab-df-convert');\n",
              "      buttonEl.style.display =\n",
              "        google.colab.kernel.accessAllowed ? 'block' : 'none';\n",
              "\n",
              "      async function convertToInteractive(key) {\n",
              "        const element = document.querySelector('#df-9b50989e-031f-457d-82df-7f181accdf72');\n",
              "        const dataTable =\n",
              "          await google.colab.kernel.invokeFunction('convertToInteractive',\n",
              "                                                    [key], {});\n",
              "        if (!dataTable) return;\n",
              "\n",
              "        const docLinkHtml = 'Like what you see? Visit the ' +\n",
              "          '<a target=\"_blank\" href=https://colab.research.google.com/notebooks/data_table.ipynb>data table notebook</a>'\n",
              "          + ' to learn more about interactive tables.';\n",
              "        element.innerHTML = '';\n",
              "        dataTable['output_type'] = 'display_data';\n",
              "        await google.colab.output.renderOutput(dataTable, element);\n",
              "        const docLink = document.createElement('div');\n",
              "        docLink.innerHTML = docLinkHtml;\n",
              "        element.appendChild(docLink);\n",
              "      }\n",
              "    </script>\n",
              "  </div>\n",
              "\n",
              "\n",
              "<div id=\"df-29973d34-3cff-45db-a687-57beb16d43bf\">\n",
              "  <button class=\"colab-df-quickchart\" onclick=\"quickchart('df-29973d34-3cff-45db-a687-57beb16d43bf')\"\n",
              "            title=\"Suggest charts\"\n",
              "            style=\"display:none;\">\n",
              "\n",
              "<svg xmlns=\"http://www.w3.org/2000/svg\" height=\"24px\"viewBox=\"0 0 24 24\"\n",
              "     width=\"24px\">\n",
              "    <g>\n",
              "        <path d=\"M19 3H5c-1.1 0-2 .9-2 2v14c0 1.1.9 2 2 2h14c1.1 0 2-.9 2-2V5c0-1.1-.9-2-2-2zM9 17H7v-7h2v7zm4 0h-2V7h2v10zm4 0h-2v-4h2v4z\"/>\n",
              "    </g>\n",
              "</svg>\n",
              "  </button>\n",
              "\n",
              "<style>\n",
              "  .colab-df-quickchart {\n",
              "      --bg-color: #E8F0FE;\n",
              "      --fill-color: #1967D2;\n",
              "      --hover-bg-color: #E2EBFA;\n",
              "      --hover-fill-color: #174EA6;\n",
              "      --disabled-fill-color: #AAA;\n",
              "      --disabled-bg-color: #DDD;\n",
              "  }\n",
              "\n",
              "  [theme=dark] .colab-df-quickchart {\n",
              "      --bg-color: #3B4455;\n",
              "      --fill-color: #D2E3FC;\n",
              "      --hover-bg-color: #434B5C;\n",
              "      --hover-fill-color: #FFFFFF;\n",
              "      --disabled-bg-color: #3B4455;\n",
              "      --disabled-fill-color: #666;\n",
              "  }\n",
              "\n",
              "  .colab-df-quickchart {\n",
              "    background-color: var(--bg-color);\n",
              "    border: none;\n",
              "    border-radius: 50%;\n",
              "    cursor: pointer;\n",
              "    display: none;\n",
              "    fill: var(--fill-color);\n",
              "    height: 32px;\n",
              "    padding: 0;\n",
              "    width: 32px;\n",
              "  }\n",
              "\n",
              "  .colab-df-quickchart:hover {\n",
              "    background-color: var(--hover-bg-color);\n",
              "    box-shadow: 0 1px 2px rgba(60, 64, 67, 0.3), 0 1px 3px 1px rgba(60, 64, 67, 0.15);\n",
              "    fill: var(--button-hover-fill-color);\n",
              "  }\n",
              "\n",
              "  .colab-df-quickchart-complete:disabled,\n",
              "  .colab-df-quickchart-complete:disabled:hover {\n",
              "    background-color: var(--disabled-bg-color);\n",
              "    fill: var(--disabled-fill-color);\n",
              "    box-shadow: none;\n",
              "  }\n",
              "\n",
              "  .colab-df-spinner {\n",
              "    border: 2px solid var(--fill-color);\n",
              "    border-color: transparent;\n",
              "    border-bottom-color: var(--fill-color);\n",
              "    animation:\n",
              "      spin 1s steps(1) infinite;\n",
              "  }\n",
              "\n",
              "  @keyframes spin {\n",
              "    0% {\n",
              "      border-color: transparent;\n",
              "      border-bottom-color: var(--fill-color);\n",
              "      border-left-color: var(--fill-color);\n",
              "    }\n",
              "    20% {\n",
              "      border-color: transparent;\n",
              "      border-left-color: var(--fill-color);\n",
              "      border-top-color: var(--fill-color);\n",
              "    }\n",
              "    30% {\n",
              "      border-color: transparent;\n",
              "      border-left-color: var(--fill-color);\n",
              "      border-top-color: var(--fill-color);\n",
              "      border-right-color: var(--fill-color);\n",
              "    }\n",
              "    40% {\n",
              "      border-color: transparent;\n",
              "      border-right-color: var(--fill-color);\n",
              "      border-top-color: var(--fill-color);\n",
              "    }\n",
              "    60% {\n",
              "      border-color: transparent;\n",
              "      border-right-color: var(--fill-color);\n",
              "    }\n",
              "    80% {\n",
              "      border-color: transparent;\n",
              "      border-right-color: var(--fill-color);\n",
              "      border-bottom-color: var(--fill-color);\n",
              "    }\n",
              "    90% {\n",
              "      border-color: transparent;\n",
              "      border-bottom-color: var(--fill-color);\n",
              "    }\n",
              "  }\n",
              "</style>\n",
              "\n",
              "  <script>\n",
              "    async function quickchart(key) {\n",
              "      const quickchartButtonEl =\n",
              "        document.querySelector('#' + key + ' button');\n",
              "      quickchartButtonEl.disabled = true;  // To prevent multiple clicks.\n",
              "      quickchartButtonEl.classList.add('colab-df-spinner');\n",
              "      try {\n",
              "        const charts = await google.colab.kernel.invokeFunction(\n",
              "            'suggestCharts', [key], {});\n",
              "      } catch (error) {\n",
              "        console.error('Error during call to suggestCharts:', error);\n",
              "      }\n",
              "      quickchartButtonEl.classList.remove('colab-df-spinner');\n",
              "      quickchartButtonEl.classList.add('colab-df-quickchart-complete');\n",
              "    }\n",
              "    (() => {\n",
              "      let quickchartButtonEl =\n",
              "        document.querySelector('#df-29973d34-3cff-45db-a687-57beb16d43bf button');\n",
              "      quickchartButtonEl.style.display =\n",
              "        google.colab.kernel.accessAllowed ? 'block' : 'none';\n",
              "    })();\n",
              "  </script>\n",
              "</div>\n",
              "\n",
              "    </div>\n",
              "  </div>\n"
            ],
            "application/vnd.google.colaboratory.intrinsic+json": {
              "type": "dataframe",
              "summary": "{\n  \"name\": \"inputs_scaled_df\",\n  \"rows\": 8,\n  \"fields\": [\n    {\n      \"column\": 0,\n      \"properties\": {\n        \"dtype\": \"number\",\n        \"std\": 24635.40711621961,\n        \"min\": 0.0,\n        \"max\": 69680.0,\n        \"num_unique_values\": 8,\n        \"samples\": [\n          0.6464508739924396,\n          0.6765425242368253,\n          69680.0\n        ],\n        \"semantic_type\": \"\",\n        \"description\": \"\"\n      }\n    },\n    {\n      \"column\": 1,\n      \"properties\": {\n        \"dtype\": \"number\",\n        \"std\": 24635.4431928042,\n        \"min\": 0.0,\n        \"max\": 69680.0,\n        \"num_unique_values\": 8,\n        \"samples\": [\n          0.4969027055667079,\n          0.4936906649293049,\n          69680.0\n        ],\n        \"semantic_type\": \"\",\n        \"description\": \"\"\n      }\n    },\n    {\n      \"column\": 2,\n      \"properties\": {\n        \"dtype\": \"number\",\n        \"std\": 24635.3968621312,\n        \"min\": 0.0,\n        \"max\": 69680.0,\n        \"num_unique_values\": 8,\n        \"samples\": [\n          0.6903591737297748,\n          0.7282134419807799,\n          69680.0\n        ],\n        \"semantic_type\": \"\",\n        \"description\": \"\"\n      }\n    },\n    {\n      \"column\": 3,\n      \"properties\": {\n        \"dtype\": \"number\",\n        \"std\": 24635.441618670437,\n        \"min\": 0.0,\n        \"max\": 69680.0,\n        \"num_unique_values\": 8,\n        \"samples\": [\n          0.4993168852958334,\n          0.5038145857121137,\n          69680.0\n        ],\n        \"semantic_type\": \"\",\n        \"description\": \"\"\n      }\n    },\n    {\n      \"column\": 4,\n      \"properties\": {\n        \"dtype\": \"number\",\n        \"std\": 24635.456870300543,\n        \"min\": 0.0,\n        \"max\": 69680.0,\n        \"num_unique_values\": 8,\n        \"samples\": [\n          0.4409341648086212,\n          0.4151352326361998,\n          69680.0\n        ],\n        \"semantic_type\": \"\",\n        \"description\": \"\"\n      }\n    },\n    {\n      \"column\": 5,\n      \"properties\": {\n        \"dtype\": \"number\",\n        \"std\": 24635.437628294214,\n        \"min\": 0.0,\n        \"max\": 69680.0,\n        \"num_unique_values\": 8,\n        \"samples\": [\n          0.5046202139179344,\n          0.5311297364640781,\n          69680.0\n        ],\n        \"semantic_type\": \"\",\n        \"description\": \"\"\n      }\n    },\n    {\n      \"column\": 6,\n      \"properties\": {\n        \"dtype\": \"number\",\n        \"std\": 24635.47412350456,\n        \"min\": 0.0,\n        \"max\": 69680.0,\n        \"num_unique_values\": 8,\n        \"samples\": [\n          0.34924030124807887,\n          0.31092219582694197,\n          69680.0\n        ],\n        \"semantic_type\": \"\",\n        \"description\": \"\"\n      }\n    }\n  ]\n}"
            }
          },
          "metadata": {},
          "execution_count": 9
        }
      ]
    },
    {
      "cell_type": "markdown",
      "metadata": {
        "id": "jhUE9-ANNA7v"
      },
      "source": [
        "Creating the batches with window size 100 and stride of 10. The fuction returns batches, each with length 100.\n"
      ]
    },
    {
      "cell_type": "code",
      "execution_count": null,
      "metadata": {
        "id": "-Za6_fyYzS58"
      },
      "outputs": [],
      "source": [
        "def create_sequences(data, seq_length, step):\n",
        "    sequences = []\n",
        "    for i in range(0, len(data) - seq_length, step):\n",
        "        sequences.append(data[i:i+seq_length])\n",
        "    return np.array(sequences)\n",
        "\n",
        "# Create sequences of length 100 with a step size of 10 for input and output\n",
        "seq_length = 100\n",
        "step = 10\n",
        "input_sequences = create_sequences(data.drop(['date', 'OT'], axis = 1), seq_length, step)\n",
        "output_sequences = create_sequences(outputs_scaled, seq_length, step)"
      ]
    },
    {
      "cell_type": "code",
      "execution_count": null,
      "metadata": {
        "colab": {
          "base_uri": "https://localhost:8080/"
        },
        "id": "tAbDccbqHoGu",
        "outputId": "d0d97b79-a898-440b-b721-e98175fb7718"
      },
      "outputs": [
        {
          "name": "stdout",
          "output_type": "stream",
          "text": [
            "(6958, 100, 6)\n",
            "(6958, 100, 1)\n"
          ]
        }
      ],
      "source": [
        "print(input_sequences.shape) #(Batch, Time Sequence, Channels / Features)\n",
        "print(output_sequences.shape)"
      ]
    },
    {
      "cell_type": "code",
      "execution_count": null,
      "metadata": {
        "id": "aNqdcg-wSHaO"
      },
      "outputs": [],
      "source": [
        "train_size = int(0.8 * len(input_sequences))\n",
        "X_train = input_sequences[:train_size]\n",
        "y_train = output_sequences[:train_size]\n",
        "X_val = input_sequences[train_size:]\n",
        "y_val = output_sequences[train_size:]\n",
        "\n",
        "X_train_tensors = torch.tensor(X_train, dtype=torch.float32)\n",
        "y_train_tensors = torch.tensor(y_train, dtype=torch.float32)\n",
        "X_val_tensors = torch.tensor(X_val, dtype=torch.float32)\n",
        "y_val_tensors = torch.tensor(y_val, dtype=torch.float32)\n",
        "\n",
        "train_dataset = TensorDataset(X_train_tensors, y_train_tensors)\n",
        "val_dataset = TensorDataset(X_val_tensors, y_val_tensors)\n",
        "\n",
        "train_loader = DataLoader(train_dataset, batch_size=32, shuffle=True)\n",
        "val_loader = DataLoader(val_dataset, batch_size=32, shuffle=False)"
      ]
    },
    {
      "cell_type": "markdown",
      "source": [
        "# Inspecting the shape of data Tensors"
      ],
      "metadata": {
        "id": "or8IpiSc9isw"
      }
    },
    {
      "cell_type": "code",
      "execution_count": null,
      "metadata": {
        "colab": {
          "base_uri": "https://localhost:8080/"
        },
        "id": "vaS_8vSGSQfT",
        "outputId": "2e848dc6-767f-47bb-a221-8ecc3dbca359"
      },
      "outputs": [
        {
          "data": {
            "text/plain": [
              "<torch.utils.data.dataloader.DataLoader at 0x7af2427f9870>"
            ]
          },
          "execution_count": 23,
          "metadata": {},
          "output_type": "execute_result"
        }
      ],
      "source": [
        "train_loader"
      ]
    },
    {
      "cell_type": "code",
      "execution_count": null,
      "metadata": {
        "colab": {
          "base_uri": "https://localhost:8080/"
        },
        "id": "iEkQw1xZZo3D",
        "outputId": "9a26eb38-27f7-406c-ad51-6a86626a77ac"
      },
      "outputs": [
        {
          "data": {
            "text/plain": [
              "174"
            ]
          },
          "execution_count": 39,
          "metadata": {},
          "output_type": "execute_result"
        }
      ],
      "source": [
        "len(train_loader)"
      ]
    },
    {
      "cell_type": "code",
      "execution_count": null,
      "metadata": {
        "colab": {
          "base_uri": "https://localhost:8080/"
        },
        "id": "oQcC1o9BZxRK",
        "outputId": "f9f49dd3-2b80-4325-c7a5-8e7c3ef45c5c"
      },
      "outputs": [
        {
          "name": "stdout",
          "output_type": "stream",
          "text": [
            "torch.Size([32, 100, 6]) torch.Size([32, 100, 1])\n"
          ]
        }
      ],
      "source": [
        "batch = next(iter(train_loader))\n",
        "print(batch[0].shape, batch[1].shape)"
      ]
    },
    {
      "cell_type": "code",
      "execution_count": null,
      "metadata": {
        "id": "6J1oeGHTcDvU"
      },
      "outputs": [],
      "source": [
        "X, y = next(iter(train_loader))"
      ]
    },
    {
      "cell_type": "code",
      "execution_count": null,
      "metadata": {
        "colab": {
          "base_uri": "https://localhost:8080/"
        },
        "id": "cF1ptcW9WvS-",
        "outputId": "e29c2f83-6940-45bd-f7ed-6e68b8d47e40"
      },
      "outputs": [
        {
          "name": "stdout",
          "output_type": "stream",
          "text": [
            "Linear(in_features=512, out_features=6, bias=True)\n"
          ]
        }
      ],
      "source": [
        "nn.Parameter(torch.zeros(1, seq_length, d_model))"
      ]
    },
    {
      "cell_type": "code",
      "execution_count": null,
      "metadata": {
        "id": "RLUJQy6gi7Hc"
      },
      "outputs": [],
      "source": [
        "tg = torch.cat((tok, y[:, :-10]), dim=1)"
      ]
    },
    {
      "cell_type": "code",
      "execution_count": null,
      "metadata": {
        "colab": {
          "base_uri": "https://localhost:8080/"
        },
        "id": "LV8kfF6kk3EY",
        "outputId": "87581263-906a-4f48-f230-e413adcd9e33"
      },
      "outputs": [
        {
          "data": {
            "text/plain": [
              "torch.Size([32, 100, 1])"
            ]
          },
          "execution_count": 79,
          "metadata": {},
          "output_type": "execute_result"
        }
      ],
      "source": [
        "tg"
      ]
    },
    {
      "cell_type": "code",
      "execution_count": null,
      "metadata": {
        "colab": {
          "base_uri": "https://localhost:8080/"
        },
        "id": "czuBYNm8XHze",
        "outputId": "e9b5b522-6eeb-47d9-a73b-d84ed0dc01ae"
      },
      "outputs": [
        {
          "data": {
            "text/plain": [
              "torch.Size([32, 100, 512])"
            ]
          },
          "execution_count": 94,
          "metadata": {},
          "output_type": "execute_result"
        }
      ],
      "source": [
        "embd = nn.Linear(6, 512)\n",
        "s = embd(tg)\n",
        "s.shape"
      ]
    },
    {
      "cell_type": "code",
      "execution_count": null,
      "metadata": {
        "id": "6UNwjIhuc9LV",
        "colab": {
          "base_uri": "https://localhost:8080/"
        },
        "outputId": "e1397390-b995-4807-ebc0-84ea23e92b12"
      },
      "outputs": [
        {
          "output_type": "stream",
          "name": "stdout",
          "text": [
            "torch.Size([32, 100, 6]) torch.Size([32, 10, 1])\n"
          ]
        }
      ],
      "source": [
        "st_token = torch.zeros(X.size(0), 10, 1)\n",
        "print(X.size(), st_token.size())"
      ]
    },
    {
      "cell_type": "code",
      "source": [
        "tg = torch.cat((st_token, y[:, :-10]), dim=1)\n",
        "print(tg.size())"
      ],
      "metadata": {
        "colab": {
          "base_uri": "https://localhost:8080/"
        },
        "id": "gNZel80fdo2a",
        "outputId": "9b67eabe-f8ca-43f4-a657-4838e5aa8421"
      },
      "execution_count": null,
      "outputs": [
        {
          "output_type": "stream",
          "name": "stdout",
          "text": [
            "torch.Size([32, 100, 1])\n"
          ]
        }
      ]
    },
    {
      "cell_type": "code",
      "execution_count": null,
      "metadata": {
        "colab": {
          "base_uri": "https://localhost:8080/"
        },
        "id": "8qfJQwcUxvVq",
        "outputId": "056f31d3-6f89-444e-8b27-e618306c3b8f"
      },
      "outputs": [
        {
          "data": {
            "text/plain": [
              "torch.Size([32, 10, 1])"
            ]
          },
          "execution_count": 100,
          "metadata": {},
          "output_type": "execute_result"
        }
      ],
      "source": [
        "tok.size()"
      ]
    },
    {
      "cell_type": "code",
      "execution_count": null,
      "metadata": {
        "colab": {
          "base_uri": "https://localhost:8080/"
        },
        "id": "gAv4ao1TdhrA",
        "outputId": "d6c2f002-f095-42bd-8a11-19219ba1f851"
      },
      "outputs": [
        {
          "data": {
            "text/plain": [
              "torch.Size([32, 90, 1])"
            ]
          },
          "execution_count": 99,
          "metadata": {},
          "output_type": "execute_result"
        }
      ],
      "source": [
        "y[:, :-10].size()"
      ]
    },
    {
      "cell_type": "code",
      "execution_count": null,
      "metadata": {
        "colab": {
          "base_uri": "https://localhost:8080/"
        },
        "id": "BO-FiaD9eMyw",
        "outputId": "6acc1cb1-cdd9-4480-d3b2-9cc820357ba0"
      },
      "outputs": [
        {
          "data": {
            "text/plain": [
              "torch.Size([32, 100, 1])"
            ]
          },
          "execution_count": 72,
          "metadata": {},
          "output_type": "execute_result"
        }
      ],
      "source": [
        "torch.cat((tok, y[:, :-10]), dim=1).shape"
      ]
    },
    {
      "cell_type": "markdown",
      "source": [
        "# Model Architcture"
      ],
      "metadata": {
        "id": "wi5dt9P7-Dqd"
      }
    },
    {
      "cell_type": "code",
      "execution_count": null,
      "metadata": {
        "id": "wagXpnPcNcM7"
      },
      "outputs": [],
      "source": [
        "# Add a mask function to generate the look-ahead mask for the decoder\n",
        "def generate_square_subsequent_mask(sz):\n",
        "    \"\"\"\n",
        "    Generate a square mask for the sequence. The mask will prevent the model from\n",
        "    attending to future positions in the sequence.\n",
        "    \"\"\"\n",
        "    mask = torch.triu(torch.ones(sz, sz) * float('-inf'), diagonal=1)\n",
        "    return mask\n",
        "\n",
        "class TimeSeriesTransformer(nn.Module):\n",
        "    def __init__(self, input_dim_src, input_dim_tgt, d_model, num_heads, num_encoder_layers, num_decoder_layers, dim_feedforward, dropout=0.1):\n",
        "        super(TimeSeriesTransformer, self).__init__()\n",
        "        self.input_dim_src = input_dim_src\n",
        "        self.input_dim_tgt = input_dim_tgt\n",
        "        self.d_model = d_model\n",
        "\n",
        "        # Embedding layer\n",
        "        self.src_embedding = nn.Linear(input_dim_src, d_model)\n",
        "        self.tgt_embedding = nn.Linear(input_dim_tgt, d_model)\n",
        "\n",
        "        # Positional Encoding\n",
        "        self.positional_encoding = nn.Parameter(torch.zeros(1, seq_length, d_model))\n",
        "\n",
        "        # Transformer layers\n",
        "        self.transformer = nn.Transformer(\n",
        "            d_model=d_model,\n",
        "            nhead=num_heads,\n",
        "            num_encoder_layers=num_encoder_layers,\n",
        "            num_decoder_layers=num_decoder_layers,\n",
        "            dim_feedforward=dim_feedforward,\n",
        "            dropout=dropout\n",
        "        )\n",
        "\n",
        "        # Output layer\n",
        "        self.fc_out = nn.Linear(d_model, 1)\n",
        "\n",
        "    def forward(self, src, tgt, tgt_mask=None):\n",
        "        # Embed the input sequence\n",
        "        src = self.src_embedding(src) + self.positional_encoding  #src: [32, 100, 6] -> [32, 100, 512] || [batch_size, sequence_length, d_model]\n",
        "        tgt = self.tgt_embedding(tgt) + self.positional_encoding[:, :tgt.size(1), :]  #tgt: [32, 10, 1] ->  [32, 10, 512] || [batch_size, sequence_length, d_model]\n",
        "\n",
        "        # Transformer expects input in shape [sequence_length, batch_size, d_model]\n",
        "        src = src.permute(1, 0, 2)  # -> [sequence_length, batch_size, d_model]\n",
        "        tgt = tgt.permute(1, 0, 2)  # -> [sequence_length, batch_size, d_model]\n",
        "\n",
        "        # Transformer forward pass with masking\n",
        "        output = self.transformer(src, tgt, tgt_mask=tgt_mask)\n",
        "        output = output.permute(1, 0, 2)  # ->  [batch_size, sequence_length, d_model]\n",
        "\n",
        "        # Final output layer\n",
        "        output = self.fc_out(output)\n",
        "        return output\n"
      ]
    },
    {
      "cell_type": "code",
      "execution_count": null,
      "metadata": {
        "id": "6xkrRGVXNd0x"
      },
      "outputs": [],
      "source": [
        "# Modify the training function to include masking\n",
        "def train_model(model, train_loader, val_loader, epochs, criterion, optimizer, device = None):\n",
        "    #model = model.to(device)\n",
        "    best_train_loss = float('inf')\n",
        "    best_val_loss = float('inf')\n",
        "    for epoch in range(epochs):\n",
        "        model.train()\n",
        "        train_loss = 0\n",
        "        for X_batch, y_batch in train_loader:\n",
        "            X_batch, y_batch = X_batch.to(device), y_batch.to(device)\n",
        "\n",
        "            # target defined as shifted sequence (auto-regressive)\n",
        "            start_token = torch.zeros(X_batch.size(0), 10, 1).to(device)  # Start token with sequence length 10\n",
        "            tgt = torch.cat((start_token, y_batch[:, :-10]), dim=1)  # Shifted output\n",
        "\n",
        "            # Generate the mask for the target sequence\n",
        "            tgt_mask = generate_square_subsequent_mask(tgt.size(1)).to(device)\n",
        "\n",
        "            # Forward pass\n",
        "            optimizer.zero_grad()\n",
        "            outputs = model(X_batch, tgt, tgt_mask=tgt_mask)\n",
        "\n",
        "            loss = criterion(outputs, y_batch)\n",
        "            loss.backward()\n",
        "            optimizer.step()\n",
        "            train_loss += loss.item()\n",
        "\n",
        "        train_loss /= len(train_loader)\n",
        "\n",
        "        # Validation\n",
        "        model.eval()\n",
        "        val_loss = 0\n",
        "        with torch.no_grad():\n",
        "            for X_batch, y_batch in val_loader:\n",
        "                X_batch, y_batch = X_batch.to(device), y_batch.to(device)\n",
        "\n",
        "                start_token = torch.zeros(X_batch.size(0), 10, 1).to(device)  # Start token with sequence length 10\n",
        "                tgt = torch.cat((start_token, y_batch[:, :-10]), dim=1) #Shifted Output\n",
        "\n",
        "                # Generate the mask for the target sequence\n",
        "                tgt_mask = generate_square_subsequent_mask(tgt.size(1)).to(device)\n",
        "\n",
        "                outputs = model(X_batch, tgt, tgt_mask=tgt_mask)\n",
        "                loss = criterion(outputs, y_batch)\n",
        "                val_loss += loss.item()\n",
        "\n",
        "        val_loss /= len(val_loader)\n",
        "\n",
        "        print(f\"Epoch {epoch+1}, Train Loss: {train_loss:.4f}, Val Loss: {val_loss:.4f}\")\n",
        "\n",
        "        if train_loss < best_train_loss and val_loss < best_val_loss:\n",
        "            best_train_loss = train_loss\n",
        "            best_val_loss = val_loss\n",
        "            torch.save(model.state_dict(), 'best_transformer_model.pth')\n",
        "            print(\"Best model saved!\")"
      ]
    },
    {
      "cell_type": "markdown",
      "source": [
        "# Build Model"
      ],
      "metadata": {
        "id": "ANHOwB7R-T3n"
      }
    },
    {
      "cell_type": "code",
      "execution_count": null,
      "metadata": {
        "id": "Lq2H--KlNwXL",
        "colab": {
          "base_uri": "https://localhost:8080/"
        },
        "outputId": "f3d4f67b-ad57-48f3-ab6a-ad3ab8b972c7"
      },
      "outputs": [
        {
          "output_type": "stream",
          "name": "stderr",
          "text": [
            "/usr/local/lib/python3.10/dist-packages/torch/nn/modules/transformer.py:307: UserWarning: enable_nested_tensor is True, but self.use_nested_tensor is False because encoder_layer.self_attn.batch_first was not True(use batch_first for better inference performance)\n",
            "  warnings.warn(f\"enable_nested_tensor is True, but self.use_nested_tensor is False because {why_not_sparsity_fast_path}\")\n"
          ]
        }
      ],
      "source": [
        "model = TimeSeriesTransformer(\n",
        "    input_dim_src=6,\n",
        "    input_dim_tgt=1,\n",
        "    d_model=512,\n",
        "    num_heads=4,\n",
        "    num_encoder_layers=6,\n",
        "    num_decoder_layers=6,\n",
        "    dim_feedforward=256\n",
        ")"
      ]
    },
    {
      "cell_type": "code",
      "execution_count": null,
      "metadata": {
        "id": "q9t4QI-IN2aB"
      },
      "outputs": [],
      "source": [
        "criterion = nn.L1Loss()\n",
        "optimizer = optim.Adam(model.parameters(), lr=0.001)"
      ]
    },
    {
      "cell_type": "markdown",
      "source": [
        "# Train Model"
      ],
      "metadata": {
        "id": "VXigGcYz-Z31"
      }
    },
    {
      "cell_type": "code",
      "execution_count": null,
      "metadata": {
        "id": "Y4mxYn8rN3_t",
        "colab": {
          "base_uri": "https://localhost:8080/"
        },
        "outputId": "2d9dc875-6e20-46b8-ccad-86833ffaec80"
      },
      "outputs": [
        {
          "output_type": "stream",
          "name": "stdout",
          "text": [
            "Epoch 1, Train Loss: 0.2796, Val Loss: 0.1661\n",
            "Best model saved!\n",
            "Epoch 2, Train Loss: 0.1540, Val Loss: 0.1548\n",
            "Best model saved!\n",
            "Epoch 3, Train Loss: 0.1474, Val Loss: 0.1545\n",
            "Best model saved!\n",
            "Epoch 4, Train Loss: 0.1463, Val Loss: 0.1890\n",
            "Epoch 5, Train Loss: 0.1451, Val Loss: 0.2037\n",
            "Epoch 6, Train Loss: 0.1454, Val Loss: 0.1030\n",
            "Best model saved!\n",
            "Epoch 7, Train Loss: 0.1433, Val Loss: 0.1237\n",
            "Epoch 8, Train Loss: 0.1438, Val Loss: 0.1405\n",
            "Epoch 9, Train Loss: 0.1442, Val Loss: 0.0826\n",
            "Best model saved!\n",
            "Epoch 10, Train Loss: 0.1435, Val Loss: 0.1858\n",
            "Epoch 11, Train Loss: 0.1410, Val Loss: 0.1030\n",
            "Epoch 12, Train Loss: 0.1408, Val Loss: 0.1826\n",
            "Epoch 13, Train Loss: 0.1414, Val Loss: 0.1337\n",
            "Epoch 14, Train Loss: 0.1408, Val Loss: 0.1272\n",
            "Epoch 15, Train Loss: 0.1412, Val Loss: 0.1379\n",
            "Epoch 16, Train Loss: 0.1410, Val Loss: 0.1608\n",
            "Epoch 17, Train Loss: 0.1413, Val Loss: 0.1805\n",
            "Epoch 18, Train Loss: 0.1411, Val Loss: 0.0908\n",
            "Epoch 19, Train Loss: 0.1414, Val Loss: 0.2092\n",
            "Epoch 20, Train Loss: 0.1419, Val Loss: 0.0912\n"
          ]
        }
      ],
      "source": [
        "train_model(model, train_loader, val_loader, epochs=20, criterion=criterion, optimizer=optimizer)"
      ]
    },
    {
      "cell_type": "code",
      "source": [
        "model.load_state_dict(torch.load('best_transformer_model.pth'))"
      ],
      "metadata": {
        "colab": {
          "base_uri": "https://localhost:8080/"
        },
        "id": "Y3TO4Pt_7l8I",
        "outputId": "51798ce7-c75d-4965-a53e-cf6251e8eefe"
      },
      "execution_count": null,
      "outputs": [
        {
          "output_type": "stream",
          "name": "stderr",
          "text": [
            "<ipython-input-23-5aa5439e336d>:1: FutureWarning: You are using `torch.load` with `weights_only=False` (the current default value), which uses the default pickle module implicitly. It is possible to construct malicious pickle data which will execute arbitrary code during unpickling (See https://github.com/pytorch/pytorch/blob/main/SECURITY.md#untrusted-models for more details). In a future release, the default value for `weights_only` will be flipped to `True`. This limits the functions that could be executed during unpickling. Arbitrary objects will no longer be allowed to be loaded via this mode unless they are explicitly allowlisted by the user via `torch.serialization.add_safe_globals`. We recommend you start setting `weights_only=True` for any use case where you don't have full control of the loaded file. Please open an issue on GitHub for any issues related to this experimental feature.\n",
            "  model.load_state_dict(torch.load('best_transformer_model.pth'))\n"
          ]
        },
        {
          "output_type": "execute_result",
          "data": {
            "text/plain": [
              "<All keys matched successfully>"
            ]
          },
          "metadata": {},
          "execution_count": 23
        }
      ]
    },
    {
      "cell_type": "markdown",
      "source": [
        "# Model Evaluation"
      ],
      "metadata": {
        "id": "jawU4M5--fWP"
      }
    },
    {
      "cell_type": "code",
      "execution_count": null,
      "metadata": {
        "id": "skE_SeIzOF0A"
      },
      "outputs": [],
      "source": [
        "model.eval()\n",
        "with torch.no_grad():\n",
        "    predictions, ground_truth = [], []\n",
        "    for X_batch, y_batch in val_loader:\n",
        "        #X_batch = X_batch.to(device)\n",
        "        start_token = torch.zeros(X_batch.size(0), 10, 1)\n",
        "        tgt = torch.cat((start_token, torch.zeros_like(y_batch[:, :-10])), dim=1)\n",
        "        outputs = model(X_batch, tgt).cpu().numpy()\n",
        "        predictions.append(outputs)\n",
        "        ground_truth.append(y_batch.numpy())\n",
        "\n",
        "predictions = np.concatenate(predictions, axis=0)\n",
        "ground_truth = np.concatenate(ground_truth, axis=0)"
      ]
    },
    {
      "cell_type": "code",
      "execution_count": null,
      "metadata": {
        "id": "KQgCadhLOJ7Z",
        "colab": {
          "base_uri": "https://localhost:8080/",
          "height": 451
        },
        "outputId": "cad51dce-0c97-43dc-9d1e-3fd97896d326"
      },
      "outputs": [
        {
          "output_type": "stream",
          "name": "stdout",
          "text": [
            "MAE Error is tensor(0.0831)\n"
          ]
        },
        {
          "output_type": "display_data",
          "data": {
            "text/plain": [
              "<Figure size 640x480 with 1 Axes>"
            ],
            "image/png": "[encoded data removed]"
          },
          "metadata": {}
        }
      ],
      "source": [
        "MAE = nn.L1Loss()\n",
        "error = MAE(torch.from_numpy(predictions), torch.from_numpy(ground_truth))\n",
        "print('MAE Error is', error)\n",
        "plt.plot(predictions.flatten(), label='Predicted')\n",
        "plt.plot(ground_truth.flatten(), label='Ground Truth')\n",
        "plt.legend()\n",
        "plt.show()"
      ]
    },
    {
      "cell_type": "markdown",
      "source": [
        "# Conclusion\n",
        "* Eventhough Our model performs well according to the obtained MAE score of 0.0831 by just fitting a regression line parallel to x axis (Y = 0*X + 0.35).\n",
        "\n",
        "* The model does not give a good fit. The model may fail for a data with a different trend.\n",
        "\n",
        "**Next Steps of Improvement:**\n",
        "\n",
        "* Larger data with a more varied trend can benifit the learning.\n",
        "\n",
        "* Leverage dates / time for positional encoding, Use the training feature as embedding vector for OT.\n",
        "\n",
        "* Use Informer model based on transformer's encode-decoder architecture for regression based tasks\n",
        "\n"
      ],
      "metadata": {
        "id": "uZ6hPHB6SxPj"
      }
    }
  ],
  "metadata": {
    "colab": {
      "provenance": [],
      "gpuType": "V28",
      "toc_visible": true,
      "include_colab_link": true
    },
    "kernelspec": {
      "display_name": "Python 3",
      "name": "python3"
    },
    "language_info": {
      "name": "python"
    },
    "accelerator": "TPU"
  },
  "nbformat": 4,
  "nbformat_minor": 0
}